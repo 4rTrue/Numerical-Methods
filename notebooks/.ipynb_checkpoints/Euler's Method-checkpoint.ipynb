{
 "cells": [
  {
   "cell_type": "markdown",
   "id": "b6efdffb",
   "metadata": {},
   "source": [
    "## Euler's Method\n",
    "\n",
    "In this notebook we will implement Euler's method to solve numerically ODE's. Euler's method consists of taking the formal definition of a derivative and from there removing the limit for $\\Delta x \\rightarrow 0$."
   ]
  },
  {
   "cell_type": "code",
   "execution_count": null,
   "id": "8236b556",
   "metadata": {},
   "outputs": [],
   "source": [
    "print('Hello world')"
   ]
  }
 ],
 "metadata": {
  "kernelspec": {
   "display_name": "Python 3 (ipykernel)",
   "language": "python",
   "name": "python3"
  },
  "language_info": {
   "codemirror_mode": {
    "name": "ipython",
    "version": 3
   },
   "file_extension": ".py",
   "mimetype": "text/x-python",
   "name": "python",
   "nbconvert_exporter": "python",
   "pygments_lexer": "ipython3",
   "version": "3.11.3"
  }
 },
 "nbformat": 4,
 "nbformat_minor": 5
}
