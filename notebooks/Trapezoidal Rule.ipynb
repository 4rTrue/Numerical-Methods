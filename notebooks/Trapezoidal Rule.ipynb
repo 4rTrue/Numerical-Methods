{
 "cells": [
  {
   "cell_type": "code",
   "execution_count": 1,
   "id": "f4e46870",
   "metadata": {},
   "outputs": [],
   "source": [
    "import numpy as np"
   ]
  },
  {
   "cell_type": "code",
   "execution_count": 2,
   "id": "bd9d2029",
   "metadata": {},
   "outputs": [],
   "source": [
    "h = 1.5   #step\n",
    "x = np.arange(-10,10,h) #discrete x-axis\n",
    "exact_sol = np.sqrt(2*np.pi) #exact soluction"
   ]
  },
  {
   "cell_type": "code",
   "execution_count": 3,
   "id": "851f6fac",
   "metadata": {},
   "outputs": [],
   "source": [
    "def f(x):\n",
    "    # Here we define functions to be integrated\n",
    "    y = np.exp(-x**2/2)\n",
    "    return y"
   ]
  },
  {
   "cell_type": "code",
   "execution_count": 4,
   "id": "4a055d17",
   "metadata": {},
   "outputs": [],
   "source": [
    "# Numerical Soluction\n",
    "int_f = h*(f(x[1:-1]).sum()+ (f(x[0])+f(x[-1]))/2)"
   ]
  },
  {
   "cell_type": "code",
   "execution_count": 5,
   "id": "6e5226e7",
   "metadata": {},
   "outputs": [
    {
     "name": "stdout",
     "output_type": "stream",
     "text": [
      "error = 0.015486114366876289%\n"
     ]
    }
   ],
   "source": [
    "#Comparison between numerical and exact solution\n",
    "print(f'error = {100*np.abs(int_f-exact_sol)/exact_sol}%')"
   ]
  }
 ],
 "metadata": {
  "kernelspec": {
   "display_name": "Python 3 (ipykernel)",
   "language": "python",
   "name": "python3"
  },
  "language_info": {
   "codemirror_mode": {
    "name": "ipython",
    "version": 3
   },
   "file_extension": ".py",
   "mimetype": "text/x-python",
   "name": "python",
   "nbconvert_exporter": "python",
   "pygments_lexer": "ipython3",
   "version": "3.11.3"
  }
 },
 "nbformat": 4,
 "nbformat_minor": 5
}
